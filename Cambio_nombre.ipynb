{
 "cells": [
  {
   "cell_type": "code",
   "execution_count": 1,
   "metadata": {},
   "outputs": [],
   "source": [
    "import pandas as pd\n",
    "import tabula\n",
    "import numpy as np\n",
    "from unidecode import unidecode\n",
    "import re\n",
    "import os\n",
    "pd.options.display.float_format = '{:,.2f}'.format\n",
    "import warnings\n",
    "warnings.simplefilter(\"ignore\")\n",
    "import shutil"
   ]
  },
  {
   "cell_type": "code",
   "execution_count": 2,
   "metadata": {},
   "outputs": [],
   "source": [
    "def extraccion(pdf,medidas):\n",
    "    df = tabula.read_pdf(pdf,pages=1,multiple_tables=False,pandas_options={\"header\":None,\"decimal\":\",\"},\\\n",
    "                       area=[medidas[0],medidas[1],medidas[2],medidas[3]],relative_area=False)\n",
    "    return df[0]"
   ]
  },
  {
   "cell_type": "code",
   "execution_count": 3,
   "metadata": {},
   "outputs": [],
   "source": [
    "def datos_descripcion(ruta,medidas_descripcion):\n",
    "    df = extraccion(ruta,med_descripcion)\n",
    "    reemplazos = {\"(tierra.*del.*fuego)\":\"TDF\",\n",
    "                  \"(santa.*cruz)\":\"SCR\",\n",
    "                  \"(neuquen)\":\"NQN\",\n",
    "                  \"(chubut)\":\"CHU\",\n",
    "                  \"nan\":\"\"}\n",
    "    texto = \"\"\n",
    "    for y in range(df.shape[0]):\n",
    "        for x in range(df.shape[1]):\n",
    "            texto += str(df.loc[y,x]) + \" \"\n",
    "        texto = texto.lower()\n",
    "    for x in list(reemplazos.keys()):\n",
    "        texto = re.sub(x,reemplazos[x],texto)\n",
    "    rex = [\".*(enero).*\",\n",
    "       \".*(febrero).*\",\n",
    "       \".*(marzo).*\",\n",
    "       \".*(abril).*\",\n",
    "       \".*(mayo).*\",\n",
    "       \".*(junio).*\",\n",
    "       \".*(julio).*\",\n",
    "       \".*(agosto).*\",\n",
    "       \".*(septiembre).*\",\n",
    "       \".*(octubre).*\",\n",
    "       \".*(noviembre).*\",\n",
    "       \".*(diciembre).*\"]\n",
    "    \n",
    "    for x in range(len(rex)):\n",
    "        busqueda = re.findall(rex[x],texto)\n",
    "        if len(busqueda)>0:\n",
    "            mes = x+1\n",
    "    rex_año = \"(20\\d{2})[^A]\"\n",
    "    año = re.findall(rex_año,texto)[0]\n",
    "    rex_cuenca_1p = \"cuenca:\\s*(\\w{2,})\"\n",
    "    cuenca = re.findall(rex_cuenca_1p,texto)[0]\n",
    "    if len(re.findall(\"(f\\w*do.*fid)\",texto))>0:\n",
    "        concepto = 1\n",
    "    else: concepto = 0\n",
    "    return mes, int(año), cuenca.upper(), concepto"
   ]
  },
  {
   "cell_type": "code",
   "execution_count": 4,
   "metadata": {},
   "outputs": [],
   "source": [
    "med_descripcion = [230,123,420,362]"
   ]
  },
  {
   "cell_type": "code",
   "execution_count": 5,
   "metadata": {},
   "outputs": [],
   "source": [
    "root = \"/Users/yagopajarino/Jupyter/PROJECTS/Camuzzi OCR/docs/\""
   ]
  },
  {
   "cell_type": "code",
   "execution_count": 6,
   "metadata": {},
   "outputs": [],
   "source": [
    "des_root = \"/Users/yagopajarino/Jupyter/PROJECTS/Camuzzi OCR/salida/\""
   ]
  },
  {
   "cell_type": "code",
   "execution_count": 7,
   "metadata": {},
   "outputs": [],
   "source": [
    "docs = os.listdir(path='/Users/yagopajarino/Jupyter/PROJECTS/Camuzzi OCR/docs/')"
   ]
  },
  {
   "cell_type": "code",
   "execution_count": 8,
   "metadata": {},
   "outputs": [],
   "source": [
    "rex = re.compile(\"(\\d{4}A\\d*)\")\n",
    "rextd = re.compile(\"^(\\w{2})\")"
   ]
  },
  {
   "cell_type": "code",
   "execution_count": 9,
   "metadata": {},
   "outputs": [],
   "source": [
    "docs.remove(\".DS_Store\")"
   ]
  },
  {
   "cell_type": "code",
   "execution_count": 10,
   "metadata": {},
   "outputs": [
    {
     "data": {
      "text/plain": [
       "61"
      ]
     },
     "execution_count": 10,
     "metadata": {},
     "output_type": "execute_result"
    }
   ],
   "source": [
    "len(docs)"
   ]
  },
  {
   "cell_type": "code",
   "execution_count": 11,
   "metadata": {
    "scrolled": true
   },
   "outputs": [
    {
     "name": "stdout",
     "output_type": "stream",
     "text": [
      "1 OK\n",
      "2 OK\n",
      "3 OK\n",
      "4 OK\n",
      "5 OK\n",
      "6 OK\n",
      "7 OK\n",
      "8 OK\n",
      "9 OK\n",
      "10 OK\n",
      "11 OK\n",
      "12 OK\n",
      "13 OK\n",
      "14 OK\n",
      "15 OK\n",
      "16 OK\n",
      "17 OK\n",
      "18 OK\n",
      "19 OK\n",
      "20 OK\n",
      "21 OK\n",
      "22 OK\n",
      "23 OK\n",
      "24 OK\n",
      "25 OK\n",
      "26 OK\n",
      "27 OK\n",
      "28 OK\n",
      "29 OK\n",
      "30 OK\n",
      "31 OK\n",
      "32 OK\n",
      "33 OK\n",
      "34 OK\n",
      "35 OK\n",
      "36 OK\n",
      "37 OK\n",
      "38 OK\n",
      "39 OK\n",
      "40 OK\n",
      "41 OK\n",
      "42 OK\n",
      "43 OK\n",
      "44 OK\n",
      "45 OK\n",
      "46 OK\n",
      "47 OK\n",
      "48 OK\n",
      "49 OK\n",
      "50 OK\n",
      "51 OK\n",
      "52 OK\n",
      "53 OK\n",
      "54 OK\n",
      "55 OK\n",
      "56 OK\n",
      "57 OK\n",
      "58 OK\n",
      "59 OK\n",
      "60 OK\n",
      "61 OK\n"
     ]
    }
   ],
   "source": [
    "n = 0\n",
    "urls = []\n",
    "for x in docs:\n",
    "    n += 1\n",
    "    url = str(root + x)\n",
    "    try:\n",
    "        mes, año, cca, concepto = datos_descripcion(url, med_descripcion)\n",
    "        nro_doc = re.findall(rex,x)[0]\n",
    "        tipo_doc = re.findall(rextd,x)[0]\n",
    "        nombre = \"{}.{} {} {} {}\".format(año,mes,cca,tipo_doc,nro_doc)\n",
    "        new_url = \"{}{}.pdf\".format(des_root,nombre)\n",
    "        shutil.copy(url,new_url)\n",
    "        print(\"{} OK\".format(n))\n",
    "    except:\n",
    "        new_url = \"{}{}.pdf\".format(des_root,x)\n",
    "        shutil.copy(url,new_url)\n",
    "        print(\"{} error\".format(n))"
   ]
  },
  {
   "cell_type": "code",
   "execution_count": null,
   "metadata": {},
   "outputs": [],
   "source": []
  }
 ],
 "metadata": {
  "kernelspec": {
   "display_name": "Python 3",
   "language": "python",
   "name": "python3"
  },
  "language_info": {
   "codemirror_mode": {
    "name": "ipython",
    "version": 3
   },
   "file_extension": ".py",
   "mimetype": "text/x-python",
   "name": "python",
   "nbconvert_exporter": "python",
   "pygments_lexer": "ipython3",
   "version": "3.7.4"
  }
 },
 "nbformat": 4,
 "nbformat_minor": 2
}
